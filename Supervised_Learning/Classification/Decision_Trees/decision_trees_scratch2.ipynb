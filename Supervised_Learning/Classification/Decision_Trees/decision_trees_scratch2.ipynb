{
 "cells": [
  {
   "cell_type": "markdown",
   "metadata": {},
   "source": [
    "# Decision Tree Classifier from Scratch #2"
   ]
  },
  {
   "cell_type": "markdown",
   "metadata": {},
   "source": [
    "## 1. Importing Libraries"
   ]
  },
  {
   "cell_type": "code",
   "execution_count": 2,
   "metadata": {},
   "outputs": [],
   "source": [
    "from __future__ import print_function"
   ]
  },
  {
   "cell_type": "markdown",
   "metadata": {},
   "source": [
    "## 2. Dataset\n",
    "\n",
    "* Each row is an example\n",
    "* The last column is the label\n",
    "* The first two columns are features"
   ]
  },
  {
   "cell_type": "code",
   "execution_count": 3,
   "metadata": {},
   "outputs": [],
   "source": [
    "training_data = [\n",
    "    ['Green', 3, 'Apple'],\n",
    "    ['Yellow', 3, 'Apple'],\n",
    "    ['Red', 1, 'Grape'],\n",
    "    ['Red', 1, 'Grape'],\n",
    "    ['Yellow', 3, 'Lemon'],\n",
    "]\n",
    "\n",
    "#column Labels\n",
    "header = [\"color\", \"diameter\", \"label\"]"
   ]
  },
  {
   "cell_type": "markdown",
   "metadata": {},
   "source": [
    "## 3. HELPER FUNCTION: Finding the unique values for a column in the dataset\n",
    "\n",
    "* unique_vals(rows, col)\n",
    "    * rows: accepts a dataset\n",
    "    * col: will be used to specify the column of the dataset\n",
    "    * For the specified column of the dataset, it will return the unique values of that column\n"
   ]
  },
  {
   "cell_type": "code",
   "execution_count": 4,
   "metadata": {},
   "outputs": [
    {
     "data": {
      "text/plain": [
       "{'Green', 'Red', 'Yellow'}"
      ]
     },
     "execution_count": 4,
     "metadata": {},
     "output_type": "execute_result"
    }
   ],
   "source": [
    "def unique_vals(rows, col):\n",
    "    return set([row[col] for row in rows])\n",
    "\n",
    "unique_vals(training_data, 0)"
   ]
  },
  {
   "cell_type": "markdown",
   "metadata": {},
   "source": [
    "## 4. HELPER FUNCTION: Count the number of each type of example in the dataset\n",
    "\n",
    "* class_counts(rows):\n",
    "    * rows: accpets a dataset"
   ]
  },
  {
   "cell_type": "code",
   "execution_count": 5,
   "metadata": {},
   "outputs": [
    {
     "data": {
      "text/plain": [
       "{'Apple': 2, 'Grape': 2, 'Lemon': 1}"
      ]
     },
     "execution_count": 5,
     "metadata": {},
     "output_type": "execute_result"
    }
   ],
   "source": [
    "def class_counts(rows):\n",
    "    #Dictionary for counts\n",
    "    counts = {}\n",
    "\n",
    "    for row in rows:\n",
    "        label = row[-1] #label is equal to the last column in the dataset\n",
    "        if label not in counts:\n",
    "            counts[label] = 0\n",
    "        counts[label] += 1\n",
    "\n",
    "    return counts\n",
    "\n",
    "class_counts(training_data)"
   ]
  },
  {
   "cell_type": "markdown",
   "metadata": {},
   "source": [
    "## 5. HELPER FUNCTION: Testing if a value is numeric"
   ]
  },
  {
   "cell_type": "code",
   "execution_count": 6,
   "metadata": {},
   "outputs": [
    {
     "data": {
      "text/plain": [
       "True"
      ]
     },
     "execution_count": 6,
     "metadata": {},
     "output_type": "execute_result"
    }
   ],
   "source": [
    "def is_numeric(value):\n",
    "    return isinstance(value, int) or isinstance(value, float)\n",
    "\n",
    "is_numeric(7)"
   ]
  },
  {
   "cell_type": "markdown",
   "metadata": {},
   "source": [
    "## 6. Partitioning the dataset"
   ]
  },
  {
   "cell_type": "code",
   "execution_count": 7,
   "metadata": {},
   "outputs": [
    {
     "data": {
      "text/plain": [
       "Is diameter >= 3?"
      ]
     },
     "execution_count": 7,
     "metadata": {},
     "output_type": "execute_result"
    }
   ],
   "source": [
    "class Question:\n",
    "    \n",
    "    def __init__(self, column, value):\n",
    "        self.column = column\n",
    "        self.value = value\n",
    "\n",
    "    def match(self, example):\n",
    "        val = example[self.column]\n",
    "\n",
    "        if is_numeric(val):\n",
    "            return val >= self.value\n",
    "        else:\n",
    "            return val == self.value\n",
    "        \n",
    "    def __repr__(self):\n",
    "        condition = \"==\"\n",
    "        if is_numeric(self.value):\n",
    "            condition = \">=\"\n",
    "\n",
    "        return \"Is %s %s %s?\" % (header[self.column], condition, str(self.value))\n",
    "    \n",
    "Question(1,3)"
   ]
  },
  {
   "cell_type": "markdown",
   "metadata": {},
   "source": [
    "## 7. Testing above cases with example"
   ]
  },
  {
   "cell_type": "code",
   "execution_count": 8,
   "metadata": {},
   "outputs": [
    {
     "name": "stdout",
     "output_type": "stream",
     "text": [
      "True\n",
      "True\n"
     ]
    }
   ],
   "source": [
    "case1 = Question(1, 3) #The question is: Is diameter >= 3\n",
    "case2 = Question(0, 'Green') #The question is: Is color == Green\n",
    "\n",
    "example = training_data[0] # Example = ['Green', 3, 'Apple']  \n",
    "\n",
    "print(case1.match(example))\n",
    "print(case2.match(example))\n"
   ]
  },
  {
   "cell_type": "markdown",
   "metadata": {},
   "source": [
    "## 8. Partitioning the dataset\n",
    "\n",
    "For each row in the dataset, check if it matche the question.\n",
    "* If it does, add it to 'True Rows' \n",
    "* Else, add it to 'False Rows'"
   ]
  },
  {
   "cell_type": "code",
   "execution_count": 9,
   "metadata": {},
   "outputs": [
    {
     "data": {
      "text/plain": [
       "([['Red', 1, 'Grape'], ['Red', 1, 'Grape']],\n",
       " [['Green', 3, 'Apple'], ['Yellow', 3, 'Apple'], ['Yellow', 3, 'Lemon']])"
      ]
     },
     "execution_count": 9,
     "metadata": {},
     "output_type": "execute_result"
    }
   ],
   "source": [
    "def partition(rows, question):\n",
    "    #Creating an empty list for the true and false rows\n",
    "    true_rows, false_rows = [],[] \n",
    "\n",
    "    for row in rows:\n",
    "        if question.match(row):\n",
    "            true_rows.append(row)\n",
    "        else:\n",
    "            false_rows.append(row)\n",
    "\n",
    "    return true_rows, false_rows\n",
    "\n",
    "#Example of partitioning the dataset based on whether rows are 'Red'\n",
    "partition(training_data, Question(0, 'Red')) #returns the True Rows first, followed by the False Rows"
   ]
  },
  {
   "cell_type": "markdown",
   "metadata": {},
   "source": [
    "## 9. Calculating Gini Index\n",
    "\n",
    "Gini Index Forumla: Forumal: 1−∑(*pi*)^2 \n",
    "\n"
   ]
  },
  {
   "cell_type": "code",
   "execution_count": 14,
   "metadata": {},
   "outputs": [
    {
     "name": "stdout",
     "output_type": "stream",
     "text": [
      "Gini Index(Impurity):  0.6399999999999999\n"
     ]
    }
   ],
   "source": [
    "def gini_index(rows):\n",
    "    counts = class_counts(rows) #Will return: {'Apple': 2, 'Grape': 2, 'Lemon': 1}\n",
    "    impurity = 1\n",
    "\n",
    "    for label in counts:\n",
    "        #print(\"Counts Label: \", counts[label])\n",
    "        probability_of_label = counts[label] / float(len(rows))\n",
    "        #print(probability_of_label)\n",
    "        impurity -= probability_of_label**2\n",
    "        # print(impurity)\n",
    "\n",
    "    return impurity\n",
    "\n",
    "print(\"Gini Index(Impurity): \", gini_index(training_data))"
   ]
  },
  {
   "cell_type": "markdown",
   "metadata": {},
   "source": [
    "## 10. Calculating Information Gain\n",
    "* The uncertainty of the starting node, minus the weigbhted impurity of two child nodes"
   ]
  },
  {
   "cell_type": "code",
   "execution_count": 15,
   "metadata": {},
   "outputs": [
    {
     "data": {
      "text/plain": [
       "0.37333333333333324"
      ]
     },
     "execution_count": 15,
     "metadata": {},
     "output_type": "execute_result"
    }
   ],
   "source": [
    "def info_gain(left_child, right_child, current_uncertainty):\n",
    "    p = float(len(left_child)) / (len(left_child) + len(right_child))\n",
    "\n",
    "    return current_uncertainty - p * gini_index(left_child) - (1 - p) * gini_index(right_child)\n",
    "\n",
    "#Calculating Information Gain below:\n",
    "current_uncertainty = gini_index(training_data) #current_uncertainty = 0.639\n",
    "\n",
    "true_rows, false_rows = partition(training_data, Question(0, 'Red'))\n",
    "# True Rows = [['Red', 1, 'Grape'], ['Red', 1, 'Grape']]\n",
    "# False Rows = [['Green', 3, 'Apple'], ['Yellow', 3, 'Apple'], ['Yellow', 3, 'Lemon']]\n",
    "\n",
    "#For this next step, True Rows are left_child, and False Rows are right_child\n",
    "info_gain(true_rows, false_rows, current_uncertainty)"
   ]
  },
  {
   "cell_type": "markdown",
   "metadata": {},
   "source": [
    "## 11. Finding the best split\n",
    "Finding the best question to ask by iterating over every feature/value and calculating the information gain"
   ]
  },
  {
   "cell_type": "code",
   "execution_count": 18,
   "metadata": {},
   "outputs": [
    {
     "data": {
      "text/plain": [
       "Is diameter >= 3?"
      ]
     },
     "execution_count": 18,
     "metadata": {},
     "output_type": "execute_result"
    }
   ],
   "source": [
    "def best_split(rows):\n",
    "    \n",
    "    #Keeps track of the best information gain\n",
    "    best_gain = 0\n",
    "    #Keeps track of the feature/value that produces the best_gain\n",
    "    best_question = None\n",
    "    #Find the current uncertainty for the rows in the dataset\n",
    "    current_uncertainty = gini_index(rows)\n",
    "    #Number of columns\n",
    "    n_features = len(rows[0]) - 1\n",
    "\n",
    "    for column in range(n_features): #For each feature\n",
    "        #Unique values in the column\n",
    "        values = set([row[column] for row in rows])\n",
    "\n",
    "        for value in values: #For each value\n",
    "            question = Question(column, value)\n",
    "\n",
    "            #Splitting the dataset\n",
    "            true_rows, false_rows = partition(rows, question)\n",
    "\n",
    "            #Skipping if the split doesnt divide the dataset\n",
    "            if len(true_rows) == 0 or len(false_rows) == 0:\n",
    "                continue\n",
    "\n",
    "            #Calculate the Information Gain\n",
    "            gain = info_gain(true_rows, false_rows, current_uncertainty)\n",
    "\n",
    "            if gain >= best_gain:\n",
    "                best_gain, best_question = gain, question\n",
    "\n",
    "    return best_gain, best_question\n",
    "\n",
    "\n",
    "best_gain, best_question = best_split(training_data)\n",
    "best_question"
   ]
  },
  {
   "cell_type": "markdown",
   "metadata": {},
   "source": [
    "## 12. Leaf Class"
   ]
  },
  {
   "cell_type": "code",
   "execution_count": 19,
   "metadata": {},
   "outputs": [],
   "source": [
    "class Leaf:\n",
    "    def __init__(self, rows):\n",
    "        self.predictions = class_counts(rows)"
   ]
  },
  {
   "cell_type": "markdown",
   "metadata": {},
   "source": [
    "## 13. Decision Node"
   ]
  },
  {
   "cell_type": "code",
   "execution_count": 20,
   "metadata": {},
   "outputs": [],
   "source": [
    "class Decision_Node:\n",
    "    def __init__(self, question, true_branch, false_branch):\n",
    "        self.question = question\n",
    "        self.true_branch = true_branch\n",
    "        self.false_branch = false_branch"
   ]
  },
  {
   "cell_type": "markdown",
   "metadata": {},
   "source": [
    "## 14. Building the Tree"
   ]
  },
  {
   "cell_type": "code",
   "execution_count": 22,
   "metadata": {},
   "outputs": [
    {
     "name": "stdout",
     "output_type": "stream",
     "text": [
      "Is diameter >= 3?\n",
      "--> True: \n",
      " Is color == Yellow?\n",
      " --> True: \n",
      "  Predict {'Apple': 1, 'Lemon': 1}\n",
      " --> False: \n",
      "  Predict {'Apple': 1}\n",
      "--> False: \n",
      " Predict {'Grape': 2}\n"
     ]
    }
   ],
   "source": [
    "def build_tree(rows):\n",
    "\n",
    "    # 1. Try partitioning the dataset on each of the unique features\n",
    "    # 2. Calculate the information gain\n",
    "    # 3. Return the quetion that produces the highest gain\n",
    "\n",
    "    gain, question = best_split(rows)\n",
    "\n",
    "    # Base case: no futher information gain. Return a leaf since we can ask no further questions\n",
    "    if gain == 0:\n",
    "        return Leaf(rows)\n",
    "    \n",
    "    # If we reach here, we have found a useful feature/value to partition on\n",
    "    true_rows, false_rows = partition(rows, question)\n",
    "\n",
    "    # Recursively build the true branch\n",
    "    true_branch = build_tree(true_rows)\n",
    "\n",
    "    # Same for false branch\n",
    "    false_branch = build_tree(false_rows)\n",
    "\n",
    "    #Return a Question node\n",
    "    return Decision_Node(question, true_branch, false_branch)\n",
    "\n",
    "\n",
    "def print_tree(node, spacing = \"\"):\n",
    "\n",
    "    # Base case: we have reached a leaf\n",
    "    if isinstance(node, Leaf):22\n",
    "        print(spacing + \"Predict\", node.predictions)\n",
    "        return\n",
    "    \n",
    "    #Print the question at this node\n",
    "    print(spacing + str(node.question))\n",
    "\n",
    "    #Call this function recurively on the true branch\n",
    "    print(spacing + '--> True: ')\n",
    "    print_tree(node.true_branch, spacing + \" \")\n",
    "\n",
    "    #Call this function recursively on the false branch\n",
    "    print(spacing + '--> False: ')\n",
    "    print_tree(node.false_branch, spacing + \" \")\n",
    "\n",
    "tree1 = build_tree(training_data)\n",
    "print_tree(tree1)"
   ]
  }
 ],
 "metadata": {
  "kernelspec": {
   "display_name": "Python 3",
   "language": "python",
   "name": "python3"
  },
  "language_info": {
   "codemirror_mode": {
    "name": "ipython",
    "version": 3
   },
   "file_extension": ".py",
   "mimetype": "text/x-python",
   "name": "python",
   "nbconvert_exporter": "python",
   "pygments_lexer": "ipython3",
   "version": "3.13.1"
  }
 },
 "nbformat": 4,
 "nbformat_minor": 2
}
